{
 "cells": [
  {
   "cell_type": "code",
   "execution_count": 1,
   "metadata": {
    "ExecuteTime": {
     "end_time": "2020-12-06T16:15:22.704676Z",
     "start_time": "2020-12-06T16:15:22.694662Z"
    }
   },
   "outputs": [],
   "source": [
    "matrix = [\n",
    "    [7,8,0,4,0,0,1,2,0],\n",
    "    [6,0,0,0,7,5,0,0,9],\n",
    "    [0,0,0,6,0,1,0,7,8],\n",
    "    [0,0,7,0,4,0,2,6,0],\n",
    "    [0,0,1,0,5,0,9,3,0],\n",
    "    [9,0,4,0,6,0,0,0,5],\n",
    "    [0,7,0,3,0,0,0,1,2],\n",
    "    [1,2,0,0,0,7,4,0,0],\n",
    "    [0,4,9,2,0,6,0,0,7]\n",
    "]\n"
   ]
  },
  {
   "cell_type": "code",
   "execution_count": 2,
   "metadata": {
    "ExecuteTime": {
     "end_time": "2020-12-06T16:15:23.311462Z",
     "start_time": "2020-12-06T16:15:23.300465Z"
    }
   },
   "outputs": [],
   "source": [
    "def verify_missing_values(matrix):\n",
    "    original = matrix.copy()\n",
    "    \n",
    "    matrix = check_rows(matrix)\n",
    "    matrix = check_columns(matrix)    \n",
    "    matrix = check_squares(matrix)\n",
    "    \n",
    "    if original==matrix:\n",
    "        return matrix\n",
    "    else:\n",
    "        verify_missing_values(matrix)"
   ]
  },
  {
   "cell_type": "code",
   "execution_count": 3,
   "metadata": {
    "ExecuteTime": {
     "end_time": "2020-12-06T16:15:23.905337Z",
     "start_time": "2020-12-06T16:15:23.896317Z"
    }
   },
   "outputs": [],
   "source": [
    "def pick_empty(matrix):\n",
    "    for i in range(len(matrix)):\n",
    "        for j in range(len(matrix[0])):\n",
    "            if matrix[i][j] == 0:\n",
    "                return (i,j)\n",
    "    return None"
   ]
  },
  {
   "cell_type": "code",
   "execution_count": 4,
   "metadata": {
    "ExecuteTime": {
     "end_time": "2020-12-06T16:15:24.641442Z",
     "start_time": "2020-12-06T16:15:24.633424Z"
    }
   },
   "outputs": [],
   "source": [
    "def valid_number(number, matrix, row, column):\n",
    "    if number in matrix[row]:\n",
    "        return False\n",
    "    \n",
    "    for i in range(len(matrix)):\n",
    "        if matrix[i][column] == number:            \n",
    "            return False\n",
    "        \n",
    "    index1 = row//3 * 3\n",
    "    index2 = column//3 * 3\n",
    "    for i in range(index1, index1+3):\n",
    "        for j in range(index2, index2+3):\n",
    "            if (matrix[i][j] == number):\n",
    "                return False\n",
    "            \n",
    "    return True"
   ]
  },
  {
   "cell_type": "code",
   "execution_count": 5,
   "metadata": {
    "ExecuteTime": {
     "end_time": "2020-12-06T16:15:25.835928Z",
     "start_time": "2020-12-06T16:15:25.814941Z"
    }
   },
   "outputs": [
    {
     "data": {
      "text/plain": [
       "True"
      ]
     },
     "execution_count": 5,
     "metadata": {},
     "output_type": "execute_result"
    }
   ],
   "source": [
    "def solve(matrix):\n",
    "    empty = pick_empty(matrix)     \n",
    "    \n",
    "    if empty == None:\n",
    "        return True\n",
    "    else:\n",
    "        row, column = empty\n",
    "        \n",
    "    # check_rows(matrix)\n",
    "        \n",
    "    for i in range(1,10): \n",
    "        if(valid_number(i, matrix, row, column)):\n",
    "            matrix[row][column] = i   \n",
    "                        \n",
    "            if solve(matrix):                \n",
    "                return True \n",
    "            \n",
    "            matrix[row][column] = 0\n",
    "\n",
    "solve(matrix)"
   ]
  },
  {
   "cell_type": "code",
   "execution_count": 6,
   "metadata": {
    "ExecuteTime": {
     "end_time": "2020-12-06T16:15:26.823871Z",
     "start_time": "2020-12-06T16:15:26.815875Z"
    }
   },
   "outputs": [
    {
     "data": {
      "text/plain": [
       "[[7, 8, 5, 4, 3, 9, 1, 2, 6],\n",
       " [6, 1, 2, 8, 7, 5, 3, 4, 9],\n",
       " [4, 9, 3, 6, 2, 1, 5, 7, 8],\n",
       " [8, 5, 7, 9, 4, 3, 2, 6, 1],\n",
       " [2, 6, 1, 7, 5, 8, 9, 3, 4],\n",
       " [9, 3, 4, 1, 6, 2, 7, 8, 5],\n",
       " [5, 7, 8, 3, 9, 4, 6, 1, 2],\n",
       " [1, 2, 6, 5, 8, 7, 4, 9, 3],\n",
       " [3, 4, 9, 2, 1, 6, 8, 5, 7]]"
      ]
     },
     "execution_count": 6,
     "metadata": {},
     "output_type": "execute_result"
    }
   ],
   "source": [
    "matrix"
   ]
  },
  {
   "cell_type": "code",
   "execution_count": 211,
   "metadata": {
    "ExecuteTime": {
     "end_time": "2020-10-25T20:58:09.906235Z",
     "start_time": "2020-10-25T20:58:09.890217Z"
    }
   },
   "outputs": [],
   "source": []
  },
  {
   "cell_type": "code",
   "execution_count": null,
   "metadata": {},
   "outputs": [],
   "source": []
  },
  {
   "cell_type": "code",
   "execution_count": 258,
   "metadata": {
    "ExecuteTime": {
     "end_time": "2020-10-25T21:27:51.533039Z",
     "start_time": "2020-10-25T21:27:51.029087Z"
    }
   },
   "outputs": [],
   "source": []
  },
  {
   "cell_type": "code",
   "execution_count": 259,
   "metadata": {
    "ExecuteTime": {
     "end_time": "2020-10-25T21:31:55.491242Z",
     "start_time": "2020-10-25T21:31:55.478251Z"
    }
   },
   "outputs": [],
   "source": []
  },
  {
   "cell_type": "code",
   "execution_count": null,
   "metadata": {},
   "outputs": [],
   "source": []
  }
 ],
 "metadata": {
  "kernelspec": {
   "display_name": "Python 3",
   "language": "python",
   "name": "python3"
  },
  "language_info": {
   "codemirror_mode": {
    "name": "ipython",
    "version": 3
   },
   "file_extension": ".py",
   "mimetype": "text/x-python",
   "name": "python",
   "nbconvert_exporter": "python",
   "pygments_lexer": "ipython3",
   "version": "3.7.4"
  },
  "varInspector": {
   "cols": {
    "lenName": 16,
    "lenType": 16,
    "lenVar": 40
   },
   "kernels_config": {
    "python": {
     "delete_cmd_postfix": "",
     "delete_cmd_prefix": "del ",
     "library": "var_list.py",
     "varRefreshCmd": "print(var_dic_list())"
    },
    "r": {
     "delete_cmd_postfix": ") ",
     "delete_cmd_prefix": "rm(",
     "library": "var_list.r",
     "varRefreshCmd": "cat(var_dic_list()) "
    }
   },
   "types_to_exclude": [
    "module",
    "function",
    "builtin_function_or_method",
    "instance",
    "_Feature"
   ],
   "window_display": false
  }
 },
 "nbformat": 4,
 "nbformat_minor": 2
}
